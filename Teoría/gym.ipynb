{
 "cells": [
  {
   "cell_type": "code",
   "execution_count": 1,
   "metadata": {},
   "outputs": [
    {
     "name": "stdout",
     "output_type": "stream",
     "text": [
      "Collecting gym\n",
      "  Downloading gym-0.26.2.tar.gz (721 kB)\n",
      "     ---------------------------------------- 0.0/721.7 kB ? eta -:--:--\n",
      "     ---------- --------------------------- 194.6/721.7 kB 3.9 MB/s eta 0:00:01\n",
      "     --------------------------- ---------- 522.2/721.7 kB 4.1 MB/s eta 0:00:01\n",
      "     -------------------------------------  716.8/721.7 kB 4.5 MB/s eta 0:00:01\n",
      "     -------------------------------------- 721.7/721.7 kB 3.8 MB/s eta 0:00:00\n",
      "  Installing build dependencies: started\n",
      "  Installing build dependencies: finished with status 'done'\n",
      "  Getting requirements to build wheel: started\n",
      "  Getting requirements to build wheel: finished with status 'done'\n",
      "  Preparing metadata (pyproject.toml): started\n",
      "  Preparing metadata (pyproject.toml): finished with status 'done'\n",
      "Requirement already satisfied: numpy>=1.18.0 in c:\\users\\ciruz\\appdata\\local\\programs\\python\\python311\\lib\\site-packages (from gym) (1.25.1)\n",
      "Collecting cloudpickle>=1.2.0 (from gym)\n",
      "  Downloading cloudpickle-3.0.0-py3-none-any.whl.metadata (7.0 kB)\n",
      "Collecting gym-notices>=0.0.4 (from gym)\n",
      "  Downloading gym_notices-0.0.8-py3-none-any.whl (3.0 kB)\n",
      "Downloading cloudpickle-3.0.0-py3-none-any.whl (20 kB)\n",
      "Building wheels for collected packages: gym\n",
      "  Building wheel for gym (pyproject.toml): started\n",
      "  Building wheel for gym (pyproject.toml): finished with status 'done'\n",
      "  Created wheel for gym: filename=gym-0.26.2-py3-none-any.whl size=827636 sha256=f680bd4f33875bd18c55c18455ff7d5b996710c59612e6a34416018cf80c7760\n",
      "  Stored in directory: c:\\users\\ciruz\\appdata\\local\\pip\\cache\\wheels\\1c\\77\\9e\\9af5470201a0b0543937933ee99ba884cd237d2faefe8f4d37\n",
      "Successfully built gym\n",
      "Installing collected packages: gym-notices, cloudpickle, gym\n",
      "Successfully installed cloudpickle-3.0.0 gym-0.26.2 gym-notices-0.0.8\n",
      "Note: you may need to restart the kernel to use updated packages.\n"
     ]
    }
   ],
   "source": [
    "pip install gym"
   ]
  },
  {
   "cell_type": "code",
   "execution_count": 2,
   "metadata": {},
   "outputs": [],
   "source": [
    "import gym\n",
    "import matplotlib"
   ]
  },
  {
   "cell_type": "code",
   "execution_count": 7,
   "metadata": {},
   "outputs": [],
   "source": [
    "env = gym.make('CartPole-v1')"
   ]
  },
  {
   "cell_type": "code",
   "execution_count": 2,
   "metadata": {},
   "outputs": [
    {
     "ename": "NameError",
     "evalue": "name 'gym' is not defined",
     "output_type": "error",
     "traceback": [
      "\u001b[1;31m---------------------------------------------------------------------------\u001b[0m",
      "\u001b[1;31mNameError\u001b[0m                                 Traceback (most recent call last)",
      "\u001b[1;32mc:\\Users\\ciruz\\OneDrive\\Documentos\\The Bridge\\T.A\\Aprendizaje por Refuerzo\\aprendizaje_por_refuerzo\\Teoría\\gym.ipynb Cell 4\u001b[0m line \u001b[0;36m2\n\u001b[0;32m      <a href='vscode-notebook-cell:/c%3A/Users/ciruz/OneDrive/Documentos/The%20Bridge/T.A/Aprendizaje%20por%20Refuerzo/aprendizaje_por_refuerzo/Teor%C3%ADa/gym.ipynb#W4sZmlsZQ%3D%3D?line=0'>1</a>\u001b[0m \u001b[39mfrom\u001b[39;00m \u001b[39mgym\u001b[39;00m\u001b[39m.\u001b[39;00m\u001b[39mutils\u001b[39;00m\u001b[39m.\u001b[39;00m\u001b[39mplay\u001b[39;00m \u001b[39mimport\u001b[39;00m play\n\u001b[1;32m----> <a href='vscode-notebook-cell:/c%3A/Users/ciruz/OneDrive/Documentos/The%20Bridge/T.A/Aprendizaje%20por%20Refuerzo/aprendizaje_por_refuerzo/Teor%C3%ADa/gym.ipynb#W4sZmlsZQ%3D%3D?line=1'>2</a>\u001b[0m play(gym\u001b[39m.\u001b[39mmake(\u001b[39m'\u001b[39m\u001b[39mCartPole-v1\u001b[39m\u001b[39m'\u001b[39m))\n",
      "\u001b[1;31mNameError\u001b[0m: name 'gym' is not defined"
     ]
    }
   ],
   "source": [
    "from gym.utils.play import play\n",
    "play(gym.make('CartPole-v1'))"
   ]
  },
  {
   "cell_type": "code",
   "execution_count": 4,
   "metadata": {},
   "outputs": [
    {
     "ename": "NameError",
     "evalue": "name 'env' is not defined",
     "output_type": "error",
     "traceback": [
      "\u001b[1;31m---------------------------------------------------------------------------\u001b[0m",
      "\u001b[1;31mNameError\u001b[0m                                 Traceback (most recent call last)",
      "\u001b[1;32mc:\\Users\\ciruz\\OneDrive\\Documentos\\The Bridge\\T.A\\Aprendizaje por Refuerzo\\aprendizaje_por_refuerzo\\Teoría\\gym.ipynb Cell 5\u001b[0m line \u001b[0;36m1\n\u001b[1;32m----> <a href='vscode-notebook-cell:/c%3A/Users/ciruz/OneDrive/Documentos/The%20Bridge/T.A/Aprendizaje%20por%20Refuerzo/aprendizaje_por_refuerzo/Teor%C3%ADa/gym.ipynb#X13sZmlsZQ%3D%3D?line=0'>1</a>\u001b[0m play(env, keys_to_action\u001b[39m=\u001b[39m{\u001b[39m'\u001b[39m\u001b[39mleft\u001b[39m\u001b[39m'\u001b[39m:\u001b[39m0\u001b[39m, \u001b[39m'\u001b[39m\u001b[39mright\u001b[39m\u001b[39m'\u001b[39m:\u001b[39m1\u001b[39m})\n",
      "\u001b[1;31mNameError\u001b[0m: name 'env' is not defined"
     ]
    }
   ],
   "source": [
    "play(env, keys_to_action={'left':0, 'right':1})"
   ]
  },
  {
   "cell_type": "code",
   "execution_count": 3,
   "metadata": {},
   "outputs": [
    {
     "name": "stderr",
     "output_type": "stream",
     "text": [
      "c:\\Users\\ciruz\\AppData\\Local\\Programs\\Python\\Python311\\Lib\\site-packages\\gym\\utils\\passive_env_checker.py:233: DeprecationWarning: `np.bool8` is a deprecated alias for `np.bool_`.  (Deprecated NumPy 1.24)\n",
      "  if not isinstance(terminated, (bool, np.bool8)):\n"
     ]
    }
   ],
   "source": [
    "from gym.utils.play import play\n",
    "import pygame\n",
    "\n",
    "pygame.init()\n",
    "# Define la asignación de teclas a acciones\n",
    "key_to_action = {\n",
    "    'left': 0,   # Asigna la tecla 'left' a la acción 0\n",
    "    'right': 1   # Asigna la tecla 'right' a la acción 1\n",
    "    }\n",
    "\n",
    "# Crea el entorno CartPole con render_mode='rgb_array'\n",
    "env = gym.make('CartPole-v1', render_mode='rgb_array')\n",
    "\n",
    "# Inicia la interfaz de reproducción con la asignación de teclas\n",
    "play(env, keys_to_action={'left':0, 'right':1})"
   ]
  }
 ],
 "metadata": {
  "kernelspec": {
   "display_name": "Python 3",
   "language": "python",
   "name": "python3"
  },
  "language_info": {
   "codemirror_mode": {
    "name": "ipython",
    "version": 3
   },
   "file_extension": ".py",
   "mimetype": "text/x-python",
   "name": "python",
   "nbconvert_exporter": "python",
   "pygments_lexer": "ipython3",
   "version": "3.11.4"
  }
 },
 "nbformat": 4,
 "nbformat_minor": 2
}
